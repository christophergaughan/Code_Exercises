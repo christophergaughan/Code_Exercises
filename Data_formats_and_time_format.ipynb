{
 "cells": [
  {
   "cell_type": "code",
   "execution_count": null,
   "metadata": {},
   "outputs": [],
   "source": []
  },
  {
   "cell_type": "markdown",
   "metadata": {},
   "source": [
    "## Here I want to discuss different ways that data is formatted, including  JSON and XML. Time formatting is also covered for those interested"
   ]
  },
  {
   "cell_type": "code",
   "execution_count": null,
   "metadata": {},
   "outputs": [],
   "source": []
  },
  {
   "cell_type": "markdown",
   "metadata": {
    "hideCode": false,
    "hidePrompt": false
   },
   "source": [
    "### xmltree basics"
   ]
  },
  {
   "cell_type": "code",
   "execution_count": 18,
   "metadata": {
    "hideCode": false,
    "hideOutput": true,
    "hidePrompt": false
   },
   "outputs": [],
   "source": [
    "from notebook.services.config import ConfigManager\n",
    "cm = ConfigManager().update('notebook', {'limit_output': 25})"
   ]
  },
  {
   "cell_type": "code",
   "execution_count": 30,
   "metadata": {
    "hideCode": false,
    "hidePrompt": false
   },
   "outputs": [
    {
     "data": {
      "text/plain": [
       "'/Users/chrisgaughan/Desktop/Python_Code_Samples/Pakt/The_Modern_Python_Challenge'"
      ]
     },
     "execution_count": 30,
     "metadata": {},
     "output_type": "execute_result"
    }
   ],
   "source": [
    "pwd"
   ]
  },
  {
   "cell_type": "code",
   "execution_count": 36,
   "metadata": {
    "hideCode": false,
    "hidePrompt": false
   },
   "outputs": [],
   "source": [
    "import xml.etree.cElementTree as et\n",
    "root = et.parse('countries.xml').getroot()"
   ]
  },
  {
   "cell_type": "code",
   "execution_count": 37,
   "metadata": {
    "hideCode": false,
    "hidePrompt": false
   },
   "outputs": [],
   "source": [
    "file = 'countries.xml'\n",
    "tree = et.parse(file)"
   ]
  },
  {
   "cell_type": "code",
   "execution_count": 38,
   "metadata": {
    "hideCode": false,
    "hidePrompt": false
   },
   "outputs": [
    {
     "data": {
      "text/plain": [
       "<xml.etree.ElementTree.ElementTree at 0x7fdc30418b10>"
      ]
     },
     "execution_count": 38,
     "metadata": {},
     "output_type": "execute_result"
    }
   ],
   "source": [
    "tree"
   ]
  },
  {
   "cell_type": "markdown",
   "metadata": {
    "hideCode": false,
    "hidePrompt": false
   },
   "source": [
    "root = tree.getroot("
   ]
  },
  {
   "cell_type": "code",
   "execution_count": 39,
   "metadata": {},
   "outputs": [
    {
     "data": {
      "text/plain": [
       "'countries'"
      ]
     },
     "execution_count": 39,
     "metadata": {},
     "output_type": "execute_result"
    }
   ],
   "source": [
    "root.tag"
   ]
  },
  {
   "cell_type": "code",
   "execution_count": 40,
   "metadata": {},
   "outputs": [
    {
     "data": {
      "text/plain": [
       "'Afghanistan'"
      ]
     },
     "execution_count": 40,
     "metadata": {},
     "output_type": "execute_result"
    }
   ],
   "source": [
    "root[0].text"
   ]
  },
  {
   "cell_type": "code",
   "execution_count": 41,
   "metadata": {},
   "outputs": [
    {
     "data": {
      "text/plain": [
       "'Albania'"
      ]
     },
     "execution_count": 41,
     "metadata": {},
     "output_type": "execute_result"
    }
   ],
   "source": [
    "root[1].text"
   ]
  },
  {
   "cell_type": "code",
   "execution_count": 42,
   "metadata": {},
   "outputs": [
    {
     "name": "stdout",
     "output_type": "stream",
     "text": [
      "Afghanistan\n",
      "Albania\n",
      "Algeria\n",
      "American Samoa\n",
      "Andorra\n",
      "Angola\n",
      "Anguilla\n",
      "Antarctica\n",
      "Antigua And Barbuda\n",
      "Argentina\n",
      "Armenia\n",
      "Aruba\n",
      "Australia\n",
      "Austria\n",
      "Azerbaijan\n",
      "Bahamas\n",
      "Bahrain\n",
      "Bangladesh\n",
      "Barbados\n",
      "Belarus\n",
      "Belgium\n",
      "Belize\n",
      "Benin\n",
      "Bermuda\n",
      "Bhutan\n",
      "Bolivia\n",
      "Bosnia And Herzegovina\n",
      "Botswana\n",
      "Bouvet Island\n",
      "Brazil\n",
      "British Indian Ocean Territory\n",
      "Brunei Darussalam\n",
      "Bulgaria\n",
      "Burkina Faso\n",
      "Burundi\n",
      "Cambodia\n",
      "Cameroon\n",
      "Canada\n",
      "Cape Verde\n",
      "Cayman Islands\n",
      "Central African Republic\n",
      "Chad\n",
      "Chile\n",
      "China\n",
      "Christmas Island\n",
      "Cocos (Keeling) Islands\n",
      "Colombia\n",
      "Comoros\n",
      "Congo\n",
      "Cook Islands\n",
      "Costa Rica\n",
      "Cote D'Ivoire\n",
      "Croatia (Local Name: Hrvatska)\n",
      "Cuba\n",
      "Cyprus\n",
      "Czech Republic\n",
      "Denmark\n",
      "Djibouti\n",
      "Dominica\n",
      "Dominican Republic\n",
      "Ecuador\n",
      "Egypt\n",
      "El Salvador\n",
      "Equatorial Guinea\n",
      "Eritrea\n",
      "Estonia\n",
      "Ethiopia\n",
      "Falkland Islands (Malvinas)\n",
      "Faroe Islands\n",
      "Fiji\n",
      "Finland\n",
      "France\n",
      "France, Metropolitan\n",
      "French Guiana\n",
      "French Polynesia\n",
      "French Southern Territories\n",
      "Gabon\n",
      "Gambia\n",
      "Georgia\n",
      "Germany\n",
      "Ghana\n",
      "Gibraltar\n",
      "Greece\n",
      "Greenland\n",
      "Grenada\n",
      "Guadeloupe\n",
      "Guam\n",
      "Guatemala\n",
      "Guinea\n",
      "Guinea-Bissau\n",
      "Guyana\n",
      "Haiti\n",
      "Heard Island Mcdonald Islands\n",
      "Honduras\n",
      "Hong Kong\n",
      "Hungary\n",
      "Iceland\n",
      "India\n",
      "Indonesia\n",
      "Iran, Islamic Republic Of\n",
      "Iraq\n",
      "Ireland\n",
      "Israel\n",
      "Italy\n",
      "Jamaica\n",
      "Japan\n",
      "Jordan\n",
      "Kazakhstan\n",
      "Kenya\n",
      "Kiribati\n",
      "Korea, Democratic People'S Republic Of\n",
      "Korea, Republic Of\n",
      "Kuwait\n",
      "Kyrgyzstan\n",
      "Lao People'S Democratic Republic\n",
      "Latvia\n",
      "Lebanon\n",
      "Lesotho\n",
      "Liberia\n",
      "Libyan Arab Jamahiriya\n",
      "Liechtenstein\n",
      "Lithuania\n",
      "Luxembourg\n",
      "Macau\n",
      "Macedonia, The Former Yugoslav Republic Of\n",
      "Madagascar\n",
      "Malawi\n",
      "Malaysia\n",
      "Maldives\n",
      "Mali\n",
      "Malta\n",
      "Marshall Islands\n",
      "Martinique\n",
      "Mauritania\n",
      "Mauritius\n",
      "Mayotte\n",
      "Mexico\n",
      "Micronesia, Federated States Of\n",
      "Moldova, Republic Of\n",
      "Monaco\n",
      "Mongolia\n",
      "Montserrat\n",
      "Morocco\n",
      "Mozambique\n",
      "Myanmar\n",
      "Namibia\n",
      "Nauru\n",
      "Nepal\n",
      "Netherlands\n",
      "Netherlands Antilles\n",
      "New Caledonia\n",
      "New Zealand\n",
      "Nicaragua\n",
      "Niger\n",
      "Nigeria\n",
      "Niue\n",
      "Norfolk Island\n",
      "Northern Mariana Islands\n",
      "Norway\n",
      "Oman\n",
      "Pakistan\n",
      "Palau\n",
      "Panama\n",
      "Papua New Guinea\n",
      "Paraguay\n",
      "Peru\n",
      "Philippines\n",
      "Pitcairn\n",
      "Poland\n",
      "Portugal\n",
      "Puerto Rico\n",
      "Qatar\n",
      "Reunion\n",
      "Romania\n",
      "Russian Federation\n",
      "Rwanda\n",
      "Saint Helena\n",
      "Saint Kitts And Nevis\n",
      "Saint Lucia\n",
      "Saint Pierre And Miquelon\n",
      "Saint Vincent And The Grenadines\n",
      "Samoa\n",
      "San Marino\n",
      "Sao Tome And Principe\n",
      "Saudi Arabia\n",
      "Senegal\n",
      "Seychelles\n",
      "Sierra Leone\n",
      "Singapore\n",
      "Slovakia (Slovak Republic)\n",
      "Slovenia\n",
      "Solomon Islands\n",
      "Somalia\n",
      "South Africa\n",
      "Spain\n",
      "Sri Lanka\n",
      "Sudan\n",
      "Suriname\n",
      "Svalbard And Jan Mayen Islands\n",
      "Swaziland\n",
      "Sweden\n",
      "Switzerland\n",
      "Syrian Arab Republic\n",
      "Taiwan, Province Of China\n",
      "Tajikistan\n",
      "Tanzania, United Republic Of\n",
      "Thailand\n",
      "Togo\n",
      "Tokelau\n",
      "Tonga\n",
      "Trinidad And Tobago\n",
      "Tunisia\n",
      "Turkey\n",
      "Turkmenistan\n",
      "Turks And Caicos Islands\n",
      "Tuvalu\n",
      "Uganda\n",
      "Ukraine\n",
      "United Arab Emirates\n",
      "United Kingdom\n",
      "United States\n",
      "United States Minor Outlying Islands\n",
      "Uruguay\n",
      "Uzbekistan\n",
      "Vanuatu\n",
      "Vatican City State (Holy See)\n",
      "Venezuela\n",
      "Viet Nam\n",
      "Virgin Islands (British)\n",
      "Virgin Islands (U.S.)\n",
      "Wallis And Futuna Islands\n",
      "Western Sahara\n",
      "Yemen\n",
      "Yugoslavia\n",
      "Zaire\n",
      "Zambia\n",
      "Zimbabwe\n"
     ]
    }
   ],
   "source": [
    "for child in root:\n",
    "    print(child.text)"
   ]
  },
  {
   "cell_type": "code",
   "execution_count": 43,
   "metadata": {},
   "outputs": [
    {
     "name": "stdout",
     "output_type": "stream",
     "text": [
      "Afghanistan-Albania-Algeria-American Samoa-Andorra-Angola-Anguilla-Antarctica-Antigua And Barbuda-Argentina-Armenia-Aruba-Australia-Austria-Azerbaijan-Bahamas-Bahrain-Bangladesh-Barbados-Belarus-Belgium-Belize-Benin-Bermuda-Bhutan-Bolivia-Bosnia And Herzegovina-Botswana-Bouvet Island-Brazil-British Indian Ocean Territory-Brunei Darussalam-Bulgaria-Burkina Faso-Burundi-Cambodia-Cameroon-Canada-Cape Verde-Cayman Islands-Central African Republic-Chad-Chile-China-Christmas Island-Cocos (Keeling) Islands-Colombia-Comoros-Congo-Cook Islands-Costa Rica-Cote D'Ivoire-Croatia (Local Name: Hrvatska)-Cuba-Cyprus-Czech Republic-Denmark-Djibouti-Dominica-Dominican Republic-Ecuador-Egypt-El Salvador-Equatorial Guinea-Eritrea-Estonia-Ethiopia-Falkland Islands (Malvinas)-Faroe Islands-Fiji-Finland-France-France, Metropolitan-French Guiana-French Polynesia-French Southern Territories-Gabon-Gambia-Georgia-Germany-Ghana-Gibraltar-Greece-Greenland-Grenada-Guadeloupe-Guam-Guatemala-Guinea-Guinea-Bissau-Guyana-Haiti-Heard Island Mcdonald Islands-Honduras-Hong Kong-Hungary-Iceland-India-Indonesia-Iran, Islamic Republic Of-Iraq-Ireland-Israel-Italy-Jamaica-Japan-Jordan-Kazakhstan-Kenya-Kiribati-Korea, Democratic People'S Republic Of-Korea, Republic Of-Kuwait-Kyrgyzstan-Lao People'S Democratic Republic-Latvia-Lebanon-Lesotho-Liberia-Libyan Arab Jamahiriya-Liechtenstein-Lithuania-Luxembourg-Macau-Macedonia, The Former Yugoslav Republic Of-Madagascar-Malawi-Malaysia-Maldives-Mali-Malta-Marshall Islands-Martinique-Mauritania-Mauritius-Mayotte-Mexico-Micronesia, Federated States Of-Moldova, Republic Of-Monaco-Mongolia-Montserrat-Morocco-Mozambique-Myanmar-Namibia-Nauru-Nepal-Netherlands-Netherlands Antilles-New Caledonia-New Zealand-Nicaragua-Niger-Nigeria-Niue-Norfolk Island-Northern Mariana Islands-Norway-Oman-Pakistan-Palau-Panama-Papua New Guinea-Paraguay-Peru-Philippines-Pitcairn-Poland-Portugal-Puerto Rico-Qatar-Reunion-Romania-Russian Federation-Rwanda-Saint Helena-Saint Kitts And Nevis-Saint Lucia-Saint Pierre And Miquelon-Saint Vincent And The Grenadines-Samoa-San Marino-Sao Tome And Principe-Saudi Arabia-Senegal-Seychelles-Sierra Leone-Singapore-Slovakia (Slovak Republic)-Slovenia-Solomon Islands-Somalia-South Africa-Spain-Sri Lanka-Sudan-Suriname-Svalbard And Jan Mayen Islands-Swaziland-Sweden-Switzerland-Syrian Arab Republic-Taiwan, Province Of China-Tajikistan-Tanzania, United Republic Of-Thailand-Togo-Tokelau-Tonga-Trinidad And Tobago-Tunisia-Turkey-Turkmenistan-Turks And Caicos Islands-Tuvalu-Uganda-Ukraine-United Arab Emirates-United Kingdom-United States-United States Minor Outlying Islands-Uruguay-Uzbekistan-Vanuatu-Vatican City State (Holy See)-Venezuela-Viet Nam-Virgin Islands (British)-Virgin Islands (U.S.)-Wallis And Futuna Islands-Western Sahara-Yemen-Yugoslavia-Zaire-Zambia-Zimbabwe-"
     ]
    }
   ],
   "source": [
    "#access various attributes for XML\n",
    "for child in root:\n",
    "    print(child.text + \"-\", end=\"\", flush=True)"
   ]
  },
  {
   "cell_type": "code",
   "execution_count": 44,
   "metadata": {},
   "outputs": [
    {
     "name": "stdout",
     "output_type": "stream",
     "text": [
      "Afghanistan-iso: 4\n",
      "Albania-iso: 8\n",
      "Algeria-iso: 12\n",
      "American Samoa-iso: 16\n",
      "Andorra-iso: 20\n",
      "Angola-iso: 24\n",
      "Anguilla-iso: 660\n",
      "Antarctica-iso: 10\n",
      "Antigua And Barbuda-iso: 28\n",
      "Argentina-iso: 32\n",
      "Armenia-iso: 51\n",
      "Aruba-iso: 533\n",
      "Australia-iso: 36\n",
      "Austria-iso: 40\n",
      "Azerbaijan-iso: 31\n",
      "Bahamas-iso: 44\n",
      "Bahrain-iso: 48\n",
      "Bangladesh-iso: 50\n",
      "Barbados-iso: 52\n",
      "Belarus-iso: 112\n",
      "Belgium-iso: 56\n",
      "Belize-iso: 84\n",
      "Benin-iso: 204\n",
      "Bermuda-iso: 60\n",
      "Bhutan-iso: 64\n",
      "Bolivia-iso: 68\n",
      "Bosnia And Herzegovina-iso: 70\n",
      "Botswana-iso: 72\n",
      "Bouvet Island-iso: 74\n",
      "Brazil-iso: 76\n",
      "British Indian Ocean Territory-iso: 86\n",
      "Brunei Darussalam-iso: 96\n",
      "Bulgaria-iso: 100\n",
      "Burkina Faso-iso: 854\n",
      "Burundi-iso: 108\n",
      "Cambodia-iso: 116\n",
      "Cameroon-iso: 120\n",
      "Canada-iso: 124\n",
      "Cape Verde-iso: 132\n",
      "Cayman Islands-iso: 136\n",
      "Central African Republic-iso: 140\n",
      "Chad-iso: 148\n",
      "Chile-iso: 152\n",
      "China-iso: 156\n",
      "Christmas Island-iso: 162\n",
      "Cocos (Keeling) Islands-iso: 166\n",
      "Colombia-iso: 170\n",
      "Comoros-iso: 174\n",
      "Congo-iso: 178\n",
      "Cook Islands-iso: 184\n",
      "Costa Rica-iso: 188\n",
      "Cote D'Ivoire-iso: 384\n",
      "Croatia (Local Name: Hrvatska)-iso: 191\n",
      "Cuba-iso: 192\n",
      "Cyprus-iso: 196\n",
      "Czech Republic-iso: 203\n",
      "Denmark-iso: 208\n",
      "Djibouti-iso: 262\n",
      "Dominica-iso: 212\n",
      "Dominican Republic-iso: 214\n",
      "Ecuador-iso: 218\n",
      "Egypt-iso: 818\n",
      "El Salvador-iso: 222\n",
      "Equatorial Guinea-iso: 226\n",
      "Eritrea-iso: 232\n",
      "Estonia-iso: 233\n",
      "Ethiopia-iso: 210\n",
      "Falkland Islands (Malvinas)-iso: 238\n",
      "Faroe Islands-iso: 234\n",
      "Fiji-iso: 242\n",
      "Finland-iso: 246\n",
      "France-iso: 250\n",
      "France, Metropolitan-iso: 249\n",
      "French Guiana-iso: 254\n",
      "French Polynesia-iso: 258\n",
      "French Southern Territories-iso: 260\n",
      "Gabon-iso: 266\n",
      "Gambia-iso: 270\n",
      "Georgia-iso: 268\n",
      "Germany-iso: 276\n",
      "Ghana-iso: 288\n",
      "Gibraltar-iso: 292\n",
      "Greece-iso: 300\n",
      "Greenland-iso: 304\n",
      "Grenada-iso: 308\n",
      "Guadeloupe-iso: 312\n",
      "Guam-iso: 316\n",
      "Guatemala-iso: 320\n",
      "Guinea-iso: 324\n",
      "Guinea-Bissau-iso: 624\n",
      "Guyana-iso: 328\n",
      "Haiti-iso: 332\n",
      "Heard Island Mcdonald Islands-iso: 334\n",
      "Honduras-iso: 340\n",
      "Hong Kong-iso: 344\n",
      "Hungary-iso: 348\n",
      "Iceland-iso: 352\n",
      "India-iso: 356\n",
      "Indonesia-iso: 360\n",
      "Iran, Islamic Republic Of-iso: 364\n",
      "Iraq-iso: 368\n",
      "Ireland-iso: 372\n",
      "Israel-iso: 376\n",
      "Italy-iso: 380\n",
      "Jamaica-iso: 388\n",
      "Japan-iso: 392\n",
      "Jordan-iso: 400\n",
      "Kazakhstan-iso: 398\n",
      "Kenya-iso: 404\n",
      "Kiribati-iso: 296\n",
      "Korea, Democratic People'S Republic Of-iso: 408\n",
      "Korea, Republic Of-iso: 410\n",
      "Kuwait-iso: 414\n",
      "Kyrgyzstan-iso: 417\n",
      "Lao People'S Democratic Republic-iso: 418\n",
      "Latvia-iso: 428\n",
      "Lebanon-iso: 422\n",
      "Lesotho-iso: 426\n",
      "Liberia-iso: 430\n",
      "Libyan Arab Jamahiriya-iso: 434\n",
      "Liechtenstein-iso: 438\n",
      "Lithuania-iso: 440\n",
      "Luxembourg-iso: 442\n",
      "Macau-iso: 446\n",
      "Macedonia, The Former Yugoslav Republic Of-iso: 807\n",
      "Madagascar-iso: 450\n",
      "Malawi-iso: 454\n",
      "Malaysia-iso: 458\n",
      "Maldives-iso: 462\n",
      "Mali-iso: 466\n",
      "Malta-iso: 470\n",
      "Marshall Islands-iso: 584\n",
      "Martinique-iso: 474\n",
      "Mauritania-iso: 478\n",
      "Mauritius-iso: 480\n",
      "Mayotte-iso: 175\n",
      "Mexico-iso: 484\n",
      "Micronesia, Federated States Of-iso: 583\n",
      "Moldova, Republic Of-iso: 498\n",
      "Monaco-iso: 492\n",
      "Mongolia-iso: 496\n",
      "Montserrat-iso: 500\n",
      "Morocco-iso: 504\n",
      "Mozambique-iso: 508\n",
      "Myanmar-iso: 104\n",
      "Namibia-iso: 516\n",
      "Nauru-iso: 520\n",
      "Nepal-iso: 524\n",
      "Netherlands-iso: 528\n",
      "Netherlands Antilles-iso: 530\n",
      "New Caledonia-iso: 540\n",
      "New Zealand-iso: 554\n",
      "Nicaragua-iso: 558\n",
      "Niger-iso: 562\n",
      "Nigeria-iso: 566\n",
      "Niue-iso: 570\n",
      "Norfolk Island-iso: 574\n",
      "Northern Mariana Islands-iso: 580\n",
      "Norway-iso: 578\n",
      "Oman-iso: 512\n",
      "Pakistan-iso: 586\n",
      "Palau-iso: 585\n",
      "Panama-iso: 591\n",
      "Papua New Guinea-iso: 598\n",
      "Paraguay-iso: 600\n",
      "Peru-iso: 604\n",
      "Philippines-iso: 608\n",
      "Pitcairn-iso: 612\n",
      "Poland-iso: 616\n",
      "Portugal-iso: 620\n",
      "Puerto Rico-iso: 630\n",
      "Qatar-iso: 634\n",
      "Reunion-iso: 638\n",
      "Romania-iso: 642\n",
      "Russian Federation-iso: 643\n",
      "Rwanda-iso: 646\n",
      "Saint Helena-iso: 654\n",
      "Saint Kitts And Nevis-iso: 659\n",
      "Saint Lucia-iso: 662\n",
      "Saint Pierre And Miquelon-iso: 666\n",
      "Saint Vincent And The Grenadines-iso: 670\n",
      "Samoa-iso: 882\n",
      "San Marino-iso: 674\n",
      "Sao Tome And Principe-iso: 678\n",
      "Saudi Arabia-iso: 682\n",
      "Senegal-iso: 686\n",
      "Seychelles-iso: 690\n",
      "Sierra Leone-iso: 694\n",
      "Singapore-iso: 702\n",
      "Slovakia (Slovak Republic)-iso: 703\n",
      "Slovenia-iso: 705\n",
      "Solomon Islands-iso: 90\n",
      "Somalia-iso: 706\n",
      "South Africa-iso: 710\n",
      "Spain-iso: 724\n",
      "Sri Lanka-iso: 144\n",
      "Sudan-iso: 736\n",
      "Suriname-iso: 740\n",
      "Svalbard And Jan Mayen Islands-iso: 744\n",
      "Swaziland-iso: 748\n",
      "Sweden-iso: 752\n",
      "Switzerland-iso: 756\n",
      "Syrian Arab Republic-iso: 760\n",
      "Taiwan, Province Of China-iso: 158\n",
      "Tajikistan-iso: 762\n",
      "Tanzania, United Republic Of-iso: 834\n",
      "Thailand-iso: 764\n",
      "Togo-iso: 768\n",
      "Tokelau-iso: 772\n",
      "Tonga-iso: 776\n",
      "Trinidad And Tobago-iso: 780\n",
      "Tunisia-iso: 788\n",
      "Turkey-iso: 792\n",
      "Turkmenistan-iso: 795\n",
      "Turks And Caicos Islands-iso: 796\n",
      "Tuvalu-iso: 798\n",
      "Uganda-iso: 800\n",
      "Ukraine-iso: 804\n",
      "United Arab Emirates-iso: 784\n",
      "United Kingdom-iso: 826\n",
      "United States-iso: 840\n",
      "United States Minor Outlying Islands-iso: 581\n",
      "Uruguay-iso: 858\n",
      "Uzbekistan-iso: 860\n",
      "Vanuatu-iso: 548\n",
      "Vatican City State (Holy See)-iso: 336\n",
      "Venezuela-iso: 862\n",
      "Viet Nam-iso: 704\n",
      "Virgin Islands (British)-iso: 92\n",
      "Virgin Islands (U.S.)-iso: 850\n",
      "Wallis And Futuna Islands-iso: 876\n",
      "Western Sahara-iso: 732\n",
      "Yemen-iso: 887\n",
      "Yugoslavia-iso: 891\n",
      "Zaire-iso: 180\n",
      "Zambia-iso: 894\n",
      "Zimbabwe-iso: 716\n"
     ]
    }
   ],
   "source": [
    "for child in root:\n",
    "    print(child.text + \"-\", end = \"\", flush=True)\n",
    "    for k,v in child.attrib.items():\n",
    "        if k == 'iso':\n",
    "            print(k+\":\",v)"
   ]
  },
  {
   "cell_type": "markdown",
   "metadata": {},
   "source": [
    "### Converting Dict to namedtuple/JSON"
   ]
  },
  {
   "cell_type": "code",
   "execution_count": 45,
   "metadata": {},
   "outputs": [],
   "source": [
    "from collections import namedtuple"
   ]
  },
  {
   "cell_type": "code",
   "execution_count": 46,
   "metadata": {},
   "outputs": [],
   "source": [
    "stock_data = {'Symbol' : 'NA', 'Name': 'NA', 'Price' : 0}"
   ]
  },
  {
   "cell_type": "code",
   "execution_count": 47,
   "metadata": {},
   "outputs": [],
   "source": [
    "ticker = namedtuple('ticker', stock_data)"
   ]
  },
  {
   "cell_type": "code",
   "execution_count": 48,
   "metadata": {},
   "outputs": [],
   "source": [
    "ford = ticker(Symbol=\"F\", Name='Ford Motor', Price=15)"
   ]
  },
  {
   "cell_type": "code",
   "execution_count": 49,
   "metadata": {},
   "outputs": [
    {
     "data": {
      "text/plain": [
       "ticker(Symbol='F', Name='Ford Motor', Price=15)"
      ]
     },
     "execution_count": 49,
     "metadata": {},
     "output_type": "execute_result"
    }
   ],
   "source": [
    "ford"
   ]
  },
  {
   "cell_type": "markdown",
   "metadata": {},
   "source": [
    "### Parsing a CSV File and Creating a Bar Chart\n"
   ]
  },
  {
   "cell_type": "code",
   "execution_count": 59,
   "metadata": {},
   "outputs": [
    {
     "name": "stdout",
     "output_type": "stream",
     "text": [
      "/Users/chrisgaughan/Desktop/Python_Code_Samples/Pakt/The_Modern_Python_Challenge\n"
     ]
    }
   ],
   "source": [
    "cd /Users/chrisgaughan/Desktop/Python_Code_Samples/Pakt/The_Modern_Python_Challenge/"
   ]
  },
  {
   "cell_type": "code",
   "execution_count": 60,
   "metadata": {},
   "outputs": [],
   "source": [
    "import csv\n",
    "import matplotlib.pyplot as plt"
   ]
  },
  {
   "cell_type": "code",
   "execution_count": 61,
   "metadata": {},
   "outputs": [],
   "source": [
    "goog = 'goog.csv'"
   ]
  },
  {
   "cell_type": "code",
   "execution_count": 62,
   "metadata": {},
   "outputs": [],
   "source": [
    "with open(goog, 'r') as data:\n",
    "    reader = csv.reader(data)\n",
    "    header = next(reader)\n",
    "    goog_csv = [row for row in reader]"
   ]
  },
  {
   "cell_type": "code",
   "execution_count": 63,
   "metadata": {},
   "outputs": [
    {
     "data": {
      "text/plain": [
       "['8/19/04',\n",
       " '49.813286',\n",
       " '51.835709',\n",
       " '47.800831',\n",
       " '49.982655',\n",
       " '49.982655',\n",
       " '44871300']"
      ]
     },
     "execution_count": 63,
     "metadata": {},
     "output_type": "execute_result"
    }
   ],
   "source": [
    "goog_csv[0]"
   ]
  },
  {
   "cell_type": "code",
   "execution_count": 64,
   "metadata": {},
   "outputs": [
    {
     "data": {
      "text/plain": [
       "['Date', 'Open', 'High', 'Low', 'Close', 'Adj Close', 'Volume']"
      ]
     },
     "execution_count": 64,
     "metadata": {},
     "output_type": "execute_result"
    }
   ],
   "source": [
    "header"
   ]
  },
  {
   "cell_type": "code",
   "execution_count": 65,
   "metadata": {},
   "outputs": [],
   "source": [
    "from matplotlib import rcParams\n",
    "rcParams['figure.figsize'] = 16,6\n",
    "\n",
    "Date = [row[0] for row in goog_csv]\n",
    "volume = [int(row[6]) for row in goog_csv]"
   ]
  },
  {
   "cell_type": "code",
   "execution_count": 66,
   "metadata": {},
   "outputs": [
    {
     "data": {
      "text/plain": [
       "'8/19/04'"
      ]
     },
     "execution_count": 66,
     "metadata": {},
     "output_type": "execute_result"
    }
   ],
   "source": [
    "Date[0]"
   ]
  },
  {
   "cell_type": "code",
   "execution_count": 67,
   "metadata": {},
   "outputs": [
    {
     "data": {
      "text/plain": [
       "44871300"
      ]
     },
     "execution_count": 67,
     "metadata": {},
     "output_type": "execute_result"
    }
   ],
   "source": [
    "volume[0]"
   ]
  },
  {
   "cell_type": "code",
   "execution_count": 68,
   "metadata": {},
   "outputs": [
    {
     "data": {
      "text/plain": [
       "<BarContainer object of 3809 artists>"
      ]
     },
     "execution_count": 68,
     "metadata": {},
     "output_type": "execute_result"
    },
    {
     "data": {
      "image/png": "[encoded data removed]",
      "text/plain": [
       "<Figure size 1152x432 with 1 Axes>"
      ]
     },
     "metadata": {
      "needs_background": "light"
     },
     "output_type": "display_data"
    }
   ],
   "source": [
    "plt.bar(Date, volume)"
   ]
  },
  {
   "cell_type": "code",
   "execution_count": null,
   "metadata": {},
   "outputs": [],
   "source": [
    "import pandas as pd"
   ]
  },
  {
   "cell_type": "code",
   "execution_count": null,
   "metadata": {},
   "outputs": [],
   "source": [
    "googl = pd.read_csv('goog.csv')"
   ]
  },
  {
   "cell_type": "code",
   "execution_count": null,
   "metadata": {},
   "outputs": [],
   "source": [
    "googl.head()"
   ]
  },
  {
   "cell_type": "code",
   "execution_count": null,
   "metadata": {},
   "outputs": [],
   "source": [
    "googl.tail()"
   ]
  },
  {
   "cell_type": "markdown",
   "metadata": {},
   "source": [
    "### Using the IPinfo API to Lookup IP Country"
   ]
  },
  {
   "cell_type": "code",
   "execution_count": null,
   "metadata": {},
   "outputs": [],
   "source": [
    "import ipinfo"
   ]
  },
  {
   "cell_type": "code",
   "execution_count": null,
   "metadata": {},
   "outputs": [],
   "source": [
    "import ipinfo\n",
    "access_token = '64f5ed0213d14e'"
   ]
  },
  {
   "cell_type": "code",
   "execution_count": null,
   "metadata": {},
   "outputs": [],
   "source": [
    "handler = ipinfo.getHandler(access_token)"
   ]
  },
  {
   "cell_type": "code",
   "execution_count": null,
   "metadata": {},
   "outputs": [],
   "source": [
    "ip_address = '216.239.36.21'"
   ]
  },
  {
   "cell_type": "code",
   "execution_count": null,
   "metadata": {},
   "outputs": [],
   "source": [
    "details = handler.getDetails(ip_address)"
   ]
  },
  {
   "cell_type": "code",
   "execution_count": null,
   "metadata": {},
   "outputs": [],
   "source": [
    "details.city"
   ]
  },
  {
   "cell_type": "code",
   "execution_count": null,
   "metadata": {},
   "outputs": [],
   "source": [
    "details.loc"
   ]
  },
  {
   "cell_type": "code",
   "execution_count": null,
   "metadata": {},
   "outputs": [],
   "source": [
    "details.hostname"
   ]
  },
  {
   "cell_type": "code",
   "execution_count": null,
   "metadata": {},
   "outputs": [],
   "source": [
    "details.country_name"
   ]
  },
  {
   "cell_type": "code",
   "execution_count": null,
   "metadata": {},
   "outputs": [],
   "source": [
    "details.all"
   ]
  },
  {
   "cell_type": "markdown",
   "metadata": {},
   "source": [
    "### Turning Messy CSV into JSON"
   ]
  },
  {
   "cell_type": "code",
   "execution_count": null,
   "metadata": {},
   "outputs": [],
   "source": [
    "import pandas as pd "
   ]
  },
  {
   "cell_type": "code",
   "execution_count": null,
   "metadata": {},
   "outputs": [],
   "source": [
    "goog = pd.read_csv('goog.csv')"
   ]
  },
  {
   "cell_type": "code",
   "execution_count": null,
   "metadata": {},
   "outputs": [],
   "source": [
    "goog.head()"
   ]
  },
  {
   "cell_type": "code",
   "execution_count": null,
   "metadata": {},
   "outputs": [],
   "source": [
    "goog.to_json(orient='split')"
   ]
  },
  {
   "cell_type": "code",
   "execution_count": null,
   "metadata": {},
   "outputs": [],
   "source": [
    "json.loads(goog.to_json(orient = 'records'))"
   ]
  },
  {
   "cell_type": "markdown",
   "metadata": {},
   "source": [
    "### Working with Relational Databases"
   ]
  },
  {
   "cell_type": "code",
   "execution_count": null,
   "metadata": {},
   "outputs": [],
   "source": [
    "pwd"
   ]
  },
  {
   "cell_type": "code",
   "execution_count": null,
   "metadata": {},
   "outputs": [],
   "source": [
    "import sqlite3 as sql "
   ]
  },
  {
   "cell_type": "code",
   "execution_count": null,
   "metadata": {},
   "outputs": [],
   "source": [
    "# conn = sql.connect(':memory')\n",
    "conn = sql.connect('customers.db')"
   ]
  },
  {
   "cell_type": "code",
   "execution_count": null,
   "metadata": {},
   "outputs": [],
   "source": [
    "# creating a cursor object allows us to run sql commands\n",
    "action = conn.cursor()"
   ]
  },
  {
   "cell_type": "code",
   "execution_count": null,
   "metadata": {},
   "outputs": [],
   "source": [
    "# create a simple table and save to the db\n",
    "action.execute(\"DROP TABLE IF EXISTS customers\")\n",
    "action.execute(\"\"\"\n",
    "                CREATE TABLE customers\n",
    "                (first text,\n",
    "                last text\n",
    "                email text)\"\"\")\n",
    "conn.commit()"
   ]
  },
  {
   "cell_type": "code",
   "execution_count": null,
   "metadata": {},
   "outputs": [],
   "source": [
    "action.execute(\"INSERT INTO customers VALUES('John', 'Dunn')\")"
   ]
  },
  {
   "cell_type": "code",
   "execution_count": null,
   "metadata": {},
   "outputs": [],
   "source": [
    "action.execute(\"SELECT * FROM customers\")\n",
    "#fetchone(), fetchmany(), fetchall()\n",
    "action.fetchall()"
   ]
  },
  {
   "cell_type": "code",
   "execution_count": null,
   "metadata": {},
   "outputs": [],
   "source": [
    "action.execute(\"INSERT INTO customers VALUES('Olivia', 'Dunn')\")"
   ]
  },
  {
   "cell_type": "code",
   "execution_count": null,
   "metadata": {},
   "outputs": [],
   "source": [
    "action.execute(\"SELECT * FROM customers\")\n",
    "#fetchone(), fetchmany(5), fetchall()\n",
    "action.fetchall()"
   ]
  },
  {
   "cell_type": "code",
   "execution_count": null,
   "metadata": {},
   "outputs": [],
   "source": [
    "import pandas as pd \n"
   ]
  },
  {
   "cell_type": "code",
   "execution_count": null,
   "metadata": {},
   "outputs": [],
   "source": [
    "pd.read_sql(\"SELECT * FROM customers\", conn)"
   ]
  },
  {
   "cell_type": "markdown",
   "metadata": {},
   "source": [
    "### Analyzing Baseball lahmanbase Data with SQLite3"
   ]
  },
  {
   "cell_type": "code",
   "execution_count": null,
   "metadata": {},
   "outputs": [],
   "source": [
    "import pandas as pd \n",
    "import sqlite3 as sql "
   ]
  },
  {
   "cell_type": "code",
   "execution_count": null,
   "metadata": {},
   "outputs": [],
   "source": [
    "con = sql.connect(\"lahmansbaseballdb.sqlite\")"
   ]
  },
  {
   "cell_type": "code",
   "execution_count": null,
   "metadata": {},
   "outputs": [],
   "source": [
    "mlb = pd.read_csv('Teams.csv')"
   ]
  },
  {
   "cell_type": "code",
   "execution_count": null,
   "metadata": {},
   "outputs": [],
   "source": [
    "type(mlb) # get a data frame\n",
    "mlb.info() # look at columns in that dataframe"
   ]
  },
  {
   "cell_type": "code",
   "execution_count": null,
   "metadata": {},
   "outputs": [],
   "source": [
    "mlb.dtypes"
   ]
  },
  {
   "cell_type": "code",
   "execution_count": null,
   "metadata": {},
   "outputs": [],
   "source": [
    "mlb.head()"
   ]
  },
  {
   "cell_type": "code",
   "execution_count": null,
   "metadata": {},
   "outputs": [],
   "source": [
    "mlb = mlb[[\n",
    "    'name', 'teamID', 'Rank', 'attendance', 'W', 'L', 'R', 'AB', 'H', '2B',\n",
    "    '3B', 'HR', 'BB', 'SO', 'SB', 'CS', 'DivWin', 'WCWin'\n",
    "]]"
   ]
  },
  {
   "cell_type": "code",
   "execution_count": null,
   "metadata": {},
   "outputs": [],
   "source": [
    "action.execute(\"DROP TABLE IF EXISTS lahmansbaseballdb.sqlite \")\n",
    "action.execute(\"\"\"CREATE TABLE mlb(\n",
    "                    name text,\n",
    "                    teamID text,\n",
    "                    Rank int64,\n",
    "                    attendance float64,\n",
    "                    W int64,\n",
    "                    L int64,\n",
    "                    R int64,\n",
    "                    AB int64,\n",
    "                    H int64,\n",
    "                    2B real,\n",
    "                    3B int64,\n",
    "                    HR int64,\n",
    "                    BB float64,\n",
    "                    SO float64,\n",
    "                    SB float64,\n",
    "                    CS float64,\n",
    "                    DivWin object,\n",
    "                    WSWin real)\"\"\")\n",
    "conn.commit()"
   ]
  },
  {
   "cell_type": "code",
   "execution_count": null,
   "metadata": {},
   "outputs": [],
   "source": [
    "mlb.to_sql('mlb', conn, if_exists='append', index=False)"
   ]
  },
  {
   "cell_type": "code",
   "execution_count": null,
   "metadata": {},
   "outputs": [],
   "source": [
    "action.execute(\"SELECT * FROM mlb\")"
   ]
  },
  {
   "cell_type": "code",
   "execution_count": null,
   "metadata": {},
   "outputs": [],
   "source": [
    "action.fetchmany(3)"
   ]
  },
  {
   "cell_type": "code",
   "execution_count": null,
   "metadata": {},
   "outputs": [],
   "source": [
    "action.execute(\"SELECT Count(*) FROM mlb\")\n",
    "action.fetchall()"
   ]
  },
  {
   "cell_type": "code",
   "execution_count": null,
   "metadata": {},
   "outputs": [],
   "source": [
    "action.execute(\"SELECT avg(H) FROM mlb\")\n",
    "action.fetchall()"
   ]
  },
  {
   "cell_type": "code",
   "execution_count": null,
   "metadata": {},
   "outputs": [],
   "source": [
    "action.execute(\"SELECT avg(H) FROM mlb\")\n",
    "action.fetchall()"
   ]
  },
  {
   "cell_type": "code",
   "execution_count": null,
   "metadata": {},
   "outputs": [],
   "source": [
    "action.execute(\"SELECT DISTINCT name FROM mlb ORDER BY WCWin\")\n",
    "action.fetchall()"
   ]
  },
  {
   "cell_type": "code",
   "execution_count": null,
   "metadata": {},
   "outputs": [],
   "source": [
    "action.execute(\"SELECT count(DISTINCT name) FROM mlb ORDER BY WCWin\")\n",
    "action.fetchall()"
   ]
  },
  {
   "cell_type": "markdown",
   "metadata": {},
   "source": [
    "### Working With Dates and Timezones"
   ]
  },
  {
   "cell_type": "code",
   "execution_count": 69,
   "metadata": {},
   "outputs": [],
   "source": [
    "import datetime as dt"
   ]
  },
  {
   "cell_type": "code",
   "execution_count": 70,
   "metadata": {},
   "outputs": [
    {
     "data": {
      "text/plain": [
       "['MAXYEAR',\n",
       " 'MINYEAR',\n",
       " '__builtins__',\n",
       " '__cached__',\n",
       " '__doc__',\n",
       " '__file__',\n",
       " '__loader__',\n",
       " '__name__',\n",
       " '__package__',\n",
       " '__spec__',\n",
       " 'date',\n",
       " 'datetime',\n",
       " 'datetime_CAPI',\n",
       " 'sys',\n",
       " 'time',\n",
       " 'timedelta',\n",
       " 'timezone',\n",
       " 'tzinfo']"
      ]
     },
     "execution_count": 70,
     "metadata": {},
     "output_type": "execute_result"
    }
   ],
   "source": [
    "dir(dt)"
   ]
  },
  {
   "cell_type": "code",
   "execution_count": 71,
   "metadata": {},
   "outputs": [
    {
     "data": {
      "text/plain": [
       "datetime.date(2020, 11, 8)"
      ]
     },
     "execution_count": 71,
     "metadata": {},
     "output_type": "execute_result"
    }
   ],
   "source": [
    "election = dt.date(2020, 11, 8)\n",
    "election"
   ]
  },
  {
   "cell_type": "code",
   "execution_count": 72,
   "metadata": {},
   "outputs": [
    {
     "name": "stdout",
     "output_type": "stream",
     "text": [
      "2020-11-08\n"
     ]
    }
   ],
   "source": [
    "print(election) # note the change in date format"
   ]
  },
  {
   "cell_type": "code",
   "execution_count": 73,
   "metadata": {},
   "outputs": [
    {
     "name": "stdout",
     "output_type": "stream",
     "text": [
      "2020-07-02\n"
     ]
    }
   ],
   "source": [
    "today = dt.date.today()\n",
    "print(today)"
   ]
  },
  {
   "cell_type": "code",
   "execution_count": 74,
   "metadata": {},
   "outputs": [
    {
     "name": "stdout",
     "output_type": "stream",
     "text": [
      "129 days, 0:00:00\n"
     ]
    }
   ],
   "source": [
    "# How many days until election day?\n",
    "print(election - today)"
   ]
  },
  {
   "cell_type": "code",
   "execution_count": 75,
   "metadata": {},
   "outputs": [],
   "source": [
    "wakeup = dt.time(10,0,0)"
   ]
  },
  {
   "cell_type": "code",
   "execution_count": 76,
   "metadata": {},
   "outputs": [
    {
     "name": "stdout",
     "output_type": "stream",
     "text": [
      "10:00:00\n"
     ]
    }
   ],
   "source": [
    "print(wakeup)"
   ]
  },
  {
   "cell_type": "code",
   "execution_count": 77,
   "metadata": {},
   "outputs": [
    {
     "data": {
      "text/plain": [
       "datetime.time(10, 0)"
      ]
     },
     "execution_count": 77,
     "metadata": {},
     "output_type": "execute_result"
    }
   ],
   "source": [
    "wakeup"
   ]
  },
  {
   "cell_type": "code",
   "execution_count": 78,
   "metadata": {},
   "outputs": [
    {
     "data": {
      "text/plain": [
       "datetime.datetime(2020, 6, 3, 3, 21)"
      ]
     },
     "execution_count": 78,
     "metadata": {},
     "output_type": "execute_result"
    }
   ],
   "source": [
    "dt.datetime(2020,6,3,3,21)"
   ]
  },
  {
   "cell_type": "code",
   "execution_count": 79,
   "metadata": {},
   "outputs": [
    {
     "name": "stdout",
     "output_type": "stream",
     "text": [
      "2020-03-03 03:24:00\n"
     ]
    }
   ],
   "source": [
    "print(dt.datetime(2020,3, 3, 3, 24))"
   ]
  },
  {
   "cell_type": "code",
   "execution_count": null,
   "metadata": {},
   "outputs": [],
   "source": []
  },
  {
   "cell_type": "code",
   "execution_count": 84,
   "metadata": {},
   "outputs": [],
   "source": [
    "#Lets see how accurate 'sleep' is:\n",
    "import time\n",
    "times = []\n",
    "for i in range(5):\n",
    "    times.append(dt.datetime.now())\n",
    "    time.sleep(1)"
   ]
  },
  {
   "cell_type": "code",
   "execution_count": 85,
   "metadata": {},
   "outputs": [
    {
     "data": {
      "text/plain": [
       "[datetime.datetime(2020, 7, 2, 17, 46, 29, 902542),\n",
       " datetime.datetime(2020, 7, 2, 17, 46, 30, 902703),\n",
       " datetime.datetime(2020, 7, 2, 17, 46, 31, 903955),\n",
       " datetime.datetime(2020, 7, 2, 17, 46, 32, 905553),\n",
       " datetime.datetime(2020, 7, 2, 17, 46, 33, 908187)]"
      ]
     },
     "execution_count": 85,
     "metadata": {},
     "output_type": "execute_result"
    }
   ],
   "source": [
    "times"
   ]
  },
  {
   "cell_type": "code",
   "execution_count": 86,
   "metadata": {},
   "outputs": [
    {
     "name": "stdout",
     "output_type": "stream",
     "text": [
      "[datetime.datetime(2020, 7, 2, 17, 46, 29, 902542), datetime.datetime(2020, 7, 2, 17, 46, 30, 902703), datetime.datetime(2020, 7, 2, 17, 46, 31, 903955), datetime.datetime(2020, 7, 2, 17, 46, 32, 905553), datetime.datetime(2020, 7, 2, 17, 46, 33, 908187)]\n"
     ]
    }
   ],
   "source": [
    "print(times)"
   ]
  },
  {
   "cell_type": "code",
   "execution_count": 87,
   "metadata": {},
   "outputs": [
    {
     "data": {
      "text/plain": [
       "datetime.timedelta(seconds=1, microseconds=161)"
      ]
     },
     "execution_count": 87,
     "metadata": {},
     "output_type": "execute_result"
    }
   ],
   "source": [
    "#Those microseconds looked a litttle weird in the timestamps\n",
    "times[1]- times[0]"
   ]
  },
  {
   "cell_type": "code",
   "execution_count": 88,
   "metadata": {},
   "outputs": [],
   "source": [
    "#so 2200 extra microseconds"
   ]
  },
  {
   "cell_type": "code",
   "execution_count": 89,
   "metadata": {},
   "outputs": [
    {
     "data": {
      "text/plain": [
       "datetime.timedelta(seconds=1, microseconds=1252)"
      ]
     },
     "execution_count": 89,
     "metadata": {},
     "output_type": "execute_result"
    }
   ],
   "source": [
    "times[2]- times[1]"
   ]
  },
  {
   "cell_type": "code",
   "execution_count": 90,
   "metadata": {},
   "outputs": [
    {
     "data": {
      "text/plain": [
       "datetime.timedelta(seconds=1, microseconds=1598)"
      ]
     },
     "execution_count": 90,
     "metadata": {},
     "output_type": "execute_result"
    }
   ],
   "source": [
    "times[3]- times[2]"
   ]
  },
  {
   "cell_type": "markdown",
   "metadata": {},
   "source": [
    "### Formatting Dates: Intermediate Level"
   ]
  },
  {
   "cell_type": "markdown",
   "metadata": {},
   "source": [
    "#### Formatting Dates"
   ]
  },
  {
   "cell_type": "code",
   "execution_count": 91,
   "metadata": {},
   "outputs": [],
   "source": [
    "import datetime as dt"
   ]
  },
  {
   "cell_type": "code",
   "execution_count": 92,
   "metadata": {},
   "outputs": [],
   "source": [
    "ed = dt.date(2020,11,3)"
   ]
  },
  {
   "cell_type": "code",
   "execution_count": 93,
   "metadata": {},
   "outputs": [
    {
     "name": "stdout",
     "output_type": "stream",
     "text": [
      "Election day is  Tuesday November 03 2020\n"
     ]
    }
   ],
   "source": [
    "print(\"Election day is {: %A %B %d %Y}\".format(ed))"
   ]
  },
  {
   "cell_type": "code",
   "execution_count": 94,
   "metadata": {},
   "outputs": [
    {
     "data": {
      "text/plain": [
       "'Tuesday November 03 2020'"
      ]
     },
     "execution_count": 94,
     "metadata": {},
     "output_type": "execute_result"
    }
   ],
   "source": [
    "#We will get a string via the following:\n",
    "ed.strftime(\"%A %B %d %Y\")"
   ]
  },
  {
   "cell_type": "code",
   "execution_count": 95,
   "metadata": {},
   "outputs": [
    {
     "data": {
      "text/plain": [
       "['Tuesday', 'November', '03', '2020']"
      ]
     },
     "execution_count": 95,
     "metadata": {},
     "output_type": "execute_result"
    }
   ],
   "source": [
    "#Turn into a list:\n",
    "str(ed.strftime(\"%A %B %d %Y\")).split()"
   ]
  },
  {
   "cell_type": "code",
   "execution_count": 96,
   "metadata": {},
   "outputs": [
    {
     "data": {
      "text/plain": [
       "3"
      ]
     },
     "execution_count": 96,
     "metadata": {},
     "output_type": "execute_result"
    }
   ],
   "source": [
    "# if you wanted to do something with the day:\n",
    "int(ed.strftime('%d'))"
   ]
  },
  {
   "cell_type": "code",
   "execution_count": 97,
   "metadata": {},
   "outputs": [
    {
     "data": {
      "text/plain": [
       "True"
      ]
     },
     "execution_count": 97,
     "metadata": {},
     "output_type": "execute_result"
    }
   ],
   "source": [
    "import webbrowser\n",
    "\n",
    "# generate an URL\n",
    "url = 'https://' + 'strftime.org/'\n",
    "webbrowser.open(url)\n"
   ]
  },
  {
   "cell_type": "code",
   "execution_count": 98,
   "metadata": {},
   "outputs": [
    {
     "data": {
      "text/plain": [
       "'44'"
      ]
     },
     "execution_count": 98,
     "metadata": {},
     "output_type": "execute_result"
    }
   ],
   "source": [
    "#Which week number will election day be? FUCKING COOL\n",
    "ed.strftime(\"%U\")"
   ]
  },
  {
   "cell_type": "markdown",
   "metadata": {},
   "source": [
    "### Parsing and Converting: i.e. turning strings into dates"
   ]
  },
  {
   "cell_type": "code",
   "execution_count": 99,
   "metadata": {},
   "outputs": [],
   "source": [
    "import datetime as dt\n",
    "import dateutil as util"
   ]
  },
  {
   "cell_type": "code",
   "execution_count": 100,
   "metadata": {},
   "outputs": [],
   "source": [
    "#How do I convert this string into one of the date-time formats\n",
    "start = '2020-01-01'"
   ]
  },
  {
   "cell_type": "code",
   "execution_count": 101,
   "metadata": {},
   "outputs": [
    {
     "data": {
      "text/plain": [
       "['2020-01-01']"
      ]
     },
     "execution_count": 101,
     "metadata": {},
     "output_type": "execute_result"
    }
   ],
   "source": [
    "start.split()"
   ]
  },
  {
   "cell_type": "code",
   "execution_count": 102,
   "metadata": {},
   "outputs": [
    {
     "data": {
      "text/plain": [
       "['2020', '01', '01']"
      ]
     },
     "execution_count": 102,
     "metadata": {},
     "output_type": "execute_result"
    }
   ],
   "source": [
    "start.split('-')"
   ]
  },
  {
   "cell_type": "code",
   "execution_count": 108,
   "metadata": {},
   "outputs": [],
   "source": [
    "def goto_date(date):\n",
    "    date = date.split('-')\n",
    "    year = int(date[0])\n",
    "    month = int(date[1])\n",
    "    day = int(date[2])\n",
    "    return dt.date(year,month,day)"
   ]
  },
  {
   "cell_type": "code",
   "execution_count": 109,
   "metadata": {},
   "outputs": [
    {
     "data": {
      "text/plain": [
       "datetime.date(2020, 1, 1)"
      ]
     },
     "execution_count": 109,
     "metadata": {},
     "output_type": "execute_result"
    }
   ],
   "source": [
    "goto_date(start)"
   ]
  },
  {
   "cell_type": "code",
   "execution_count": 110,
   "metadata": {},
   "outputs": [],
   "source": [
    "import pandas as pd "
   ]
  },
  {
   "cell_type": "code",
   "execution_count": 111,
   "metadata": {},
   "outputs": [],
   "source": [
    "dates = ['2020-01-' + str(x) for x in range (1,32)]"
   ]
  },
  {
   "cell_type": "code",
   "execution_count": 112,
   "metadata": {},
   "outputs": [
    {
     "data": {
      "text/plain": [
       "['2020-01-1', '2020-01-2', '2020-01-3', '2020-01-4', '2020-01-5']"
      ]
     },
     "execution_count": 112,
     "metadata": {},
     "output_type": "execute_result"
    }
   ],
   "source": [
    "dates[:5]"
   ]
  },
  {
   "cell_type": "code",
   "execution_count": 113,
   "metadata": {},
   "outputs": [],
   "source": [
    "converted = pd.DataFrame(dates)"
   ]
  },
  {
   "cell_type": "code",
   "execution_count": 114,
   "metadata": {},
   "outputs": [],
   "source": [
    "converted = converted[0].apply(goto_date)"
   ]
  },
  {
   "cell_type": "code",
   "execution_count": 115,
   "metadata": {},
   "outputs": [
    {
     "data": {
      "text/plain": [
       "datetime.date"
      ]
     },
     "execution_count": 115,
     "metadata": {},
     "output_type": "execute_result"
    }
   ],
   "source": [
    "type(converted[0])"
   ]
  },
  {
   "cell_type": "code",
   "execution_count": 116,
   "metadata": {},
   "outputs": [
    {
     "data": {
      "text/plain": [
       "pandas.core.series.Series"
      ]
     },
     "execution_count": 116,
     "metadata": {},
     "output_type": "execute_result"
    }
   ],
   "source": [
    "type(converted)"
   ]
  },
  {
   "cell_type": "markdown",
   "metadata": {},
   "source": [
    "#### so as you can see above, the dataframe has been converted into a series. We may not want that"
   ]
  },
  {
   "cell_type": "code",
   "execution_count": 117,
   "metadata": {},
   "outputs": [],
   "source": [
    "converted = pd.DataFrame(converted)"
   ]
  },
  {
   "cell_type": "code",
   "execution_count": 118,
   "metadata": {},
   "outputs": [
    {
     "name": "stdout",
     "output_type": "stream",
     "text": [
      "<class 'pandas.core.frame.DataFrame'>\n",
      "RangeIndex: 31 entries, 0 to 30\n",
      "Data columns (total 1 columns):\n",
      " #   Column  Non-Null Count  Dtype \n",
      "---  ------  --------------  ----- \n",
      " 0   0       31 non-null     object\n",
      "dtypes: object(1)\n",
      "memory usage: 376.0+ bytes\n"
     ]
    }
   ],
   "source": [
    "converted.info()"
   ]
  },
  {
   "cell_type": "code",
   "execution_count": 119,
   "metadata": {},
   "outputs": [
    {
     "data": {
      "text/plain": [
       "DatetimeIndex(['2020-01-01', '2020-01-02', '2020-01-03', '2020-01-04',\n",
       "               '2020-01-05', '2020-01-06', '2020-01-07', '2020-01-08',\n",
       "               '2020-01-09', '2020-01-10', '2020-01-11', '2020-01-12',\n",
       "               '2020-01-13', '2020-01-14', '2020-01-15', '2020-01-16',\n",
       "               '2020-01-17', '2020-01-18', '2020-01-19', '2020-01-20',\n",
       "               '2020-01-21', '2020-01-22', '2020-01-23', '2020-01-24',\n",
       "               '2020-01-25', '2020-01-26', '2020-01-27', '2020-01-28',\n",
       "               '2020-01-29', '2020-01-30', '2020-01-31'],\n",
       "              dtype='datetime64[ns]', name=0, freq=None)"
      ]
     },
     "execution_count": 119,
     "metadata": {},
     "output_type": "execute_result"
    }
   ],
   "source": [
    "pd.DatetimeIndex(converted[0])"
   ]
  },
  {
   "cell_type": "markdown",
   "metadata": {},
   "source": [
    "##### Datetime does not have the ability to turn strings into dat BUT 'utils' does "
   ]
  },
  {
   "cell_type": "code",
   "execution_count": 120,
   "metadata": {},
   "outputs": [
    {
     "data": {
      "text/plain": [
       "datetime.datetime(2020, 1, 1, 0, 0)"
      ]
     },
     "execution_count": 120,
     "metadata": {},
     "output_type": "execute_result"
    }
   ],
   "source": [
    "util.parser.parse(start)"
   ]
  },
  {
   "cell_type": "code",
   "execution_count": 121,
   "metadata": {},
   "outputs": [],
   "source": [
    "new_dates = []\n",
    "for date in dates:\n",
    "    new_dates.append(util.parser.parse(date))"
   ]
  },
  {
   "cell_type": "code",
   "execution_count": 122,
   "metadata": {},
   "outputs": [
    {
     "data": {
      "text/plain": [
       "[datetime.datetime(2020, 1, 1, 0, 0),\n",
       " datetime.datetime(2020, 1, 2, 0, 0),\n",
       " datetime.datetime(2020, 1, 3, 0, 0)]"
      ]
     },
     "execution_count": 122,
     "metadata": {},
     "output_type": "execute_result"
    }
   ],
   "source": [
    "new_dates[:3]"
   ]
  },
  {
   "cell_type": "markdown",
   "metadata": {},
   "source": [
    "## Working Between Time Zones"
   ]
  },
  {
   "cell_type": "code",
   "execution_count": 123,
   "metadata": {},
   "outputs": [],
   "source": [
    "import datetime as dt\n",
    "import pytz\n",
    "import time"
   ]
  },
  {
   "cell_type": "code",
   "execution_count": 124,
   "metadata": {},
   "outputs": [
    {
     "data": {
      "text/plain": [
       "time.struct_time(tm_year=2020, tm_mon=7, tm_mday=2, tm_hour=17, tm_min=48, tm_sec=10, tm_wday=3, tm_yday=184, tm_isdst=1)"
      ]
     },
     "execution_count": 124,
     "metadata": {},
     "output_type": "execute_result"
    }
   ],
   "source": [
    "time.localtime() # yields a tuple"
   ]
  },
  {
   "cell_type": "code",
   "execution_count": 125,
   "metadata": {},
   "outputs": [
    {
     "data": {
      "text/plain": [
       "time.struct_time(tm_year=2020, tm_mon=7, tm_mday=2, tm_hour=21, tm_min=48, tm_sec=11, tm_wday=3, tm_yday=184, tm_isdst=0)"
      ]
     },
     "execution_count": 125,
     "metadata": {},
     "output_type": "execute_result"
    }
   ],
   "source": [
    "time.gmtime()"
   ]
  },
  {
   "cell_type": "code",
   "execution_count": 126,
   "metadata": {},
   "outputs": [
    {
     "data": {
      "text/plain": [
       "2020"
      ]
     },
     "execution_count": 126,
     "metadata": {},
     "output_type": "execute_result"
    }
   ],
   "source": [
    "time.gmtime().tm_year"
   ]
  },
  {
   "cell_type": "code",
   "execution_count": 127,
   "metadata": {},
   "outputs": [
    {
     "data": {
      "text/plain": [
       "-4"
      ]
     },
     "execution_count": 127,
     "metadata": {},
     "output_type": "execute_result"
    }
   ],
   "source": [
    "time.localtime().tm_hour - time.gmtime().tm_hour"
   ]
  },
  {
   "cell_type": "markdown",
   "metadata": {},
   "source": [
    "#### Humanizing a Date and Time"
   ]
  },
  {
   "cell_type": "code",
   "execution_count": 185,
   "metadata": {},
   "outputs": [],
   "source": [
    "import datetime as dt\n",
    "import humanize as hum \n"
   ]
  },
  {
   "cell_type": "code",
   "execution_count": 186,
   "metadata": {},
   "outputs": [
    {
     "data": {
      "text/plain": [
       "['VERSION',\n",
       " '__all__',\n",
       " '__builtins__',\n",
       " '__cached__',\n",
       " '__doc__',\n",
       " '__file__',\n",
       " '__loader__',\n",
       " '__name__',\n",
       " '__package__',\n",
       " '__path__',\n",
       " '__spec__',\n",
       " '__version__',\n",
       " 'activate',\n",
       " 'apnumber',\n",
       " 'deactivate',\n",
       " 'filesize',\n",
       " 'fractional',\n",
       " 'i18n',\n",
       " 'intcomma',\n",
       " 'intword',\n",
       " 'naturaldate',\n",
       " 'naturalday',\n",
       " 'naturaldelta',\n",
       " 'naturalsize',\n",
       " 'naturaltime',\n",
       " 'number',\n",
       " 'ordinal',\n",
       " 'pkg_resources',\n",
       " 'scientific',\n",
       " 'time']"
      ]
     },
     "execution_count": 186,
     "metadata": {},
     "output_type": "execute_result"
    }
   ],
   "source": [
    "dir(hum)"
   ]
  },
  {
   "cell_type": "code",
   "execution_count": 189,
   "metadata": {},
   "outputs": [
    {
     "data": {
      "text/plain": [
       "<function date.today>"
      ]
     },
     "execution_count": 189,
     "metadata": {},
     "output_type": "execute_result"
    }
   ],
   "source": [
    "hum.naturaldate(dt.date.today)"
   ]
  },
  {
   "cell_type": "code",
   "execution_count": 191,
   "metadata": {},
   "outputs": [
    {
     "data": {
      "text/plain": [
       "'Jun 05'"
      ]
     },
     "execution_count": 191,
     "metadata": {},
     "output_type": "execute_result"
    }
   ],
   "source": [
    "hum.naturaldate(dt.date.today()+dt.timedelta(days=2))"
   ]
  },
  {
   "cell_type": "code",
   "execution_count": 193,
   "metadata": {},
   "outputs": [
    {
     "data": {
      "text/plain": [
       "'3 hours'"
      ]
     },
     "execution_count": 193,
     "metadata": {},
     "output_type": "execute_result"
    }
   ],
   "source": [
    "hum.naturaldelta(dt.timedelta(minutes=230))"
   ]
  },
  {
   "cell_type": "code",
   "execution_count": 194,
   "metadata": {},
   "outputs": [
    {
     "data": {
      "text/plain": [
       "'an hour ago'"
      ]
     },
     "execution_count": 194,
     "metadata": {},
     "output_type": "execute_result"
    }
   ],
   "source": [
    "hum.naturaltime(dt.datetime.now() - dt.timedelta(minutes=60))"
   ]
  },
  {
   "cell_type": "code",
   "execution_count": 195,
   "metadata": {},
   "outputs": [
    {
     "data": {
      "text/plain": [
       "'6 hours ago'"
      ]
     },
     "execution_count": 195,
     "metadata": {},
     "output_type": "execute_result"
    }
   ],
   "source": [
    "hum.naturaltime(dt.datetime.now() - dt.timedelta(minutes=400))"
   ]
  },
  {
   "cell_type": "markdown",
   "metadata": {},
   "source": [
    "### Calculating Time"
   ]
  },
  {
   "cell_type": "code",
   "execution_count": 196,
   "metadata": {},
   "outputs": [],
   "source": [
    "import datetime as dt"
   ]
  },
  {
   "cell_type": "code",
   "execution_count": 198,
   "metadata": {},
   "outputs": [],
   "source": [
    "start = dt.date(2008,10,4)\n",
    "end= dt.date.today()"
   ]
  },
  {
   "cell_type": "code",
   "execution_count": 199,
   "metadata": {},
   "outputs": [],
   "source": [
    "days = end - start"
   ]
  },
  {
   "cell_type": "code",
   "execution_count": 200,
   "metadata": {},
   "outputs": [
    {
     "data": {
      "text/plain": [
       "datetime.timedelta(days=4260)"
      ]
     },
     "execution_count": 200,
     "metadata": {},
     "output_type": "execute_result"
    }
   ],
   "source": [
    "days"
   ]
  },
  {
   "cell_type": "code",
   "execution_count": 201,
   "metadata": {},
   "outputs": [
    {
     "name": "stdout",
     "output_type": "stream",
     "text": [
      "4260 days, 0:00:00\n"
     ]
    }
   ],
   "source": [
    "print(days)"
   ]
  },
  {
   "cell_type": "code",
   "execution_count": 203,
   "metadata": {},
   "outputs": [
    {
     "data": {
      "text/plain": [
       "4260"
      ]
     },
     "execution_count": 203,
     "metadata": {},
     "output_type": "execute_result"
    }
   ],
   "source": [
    "days.days #result is an integer"
   ]
  },
  {
   "cell_type": "code",
   "execution_count": 204,
   "metadata": {},
   "outputs": [
    {
     "data": {
      "text/plain": [
       "139.0"
      ]
     },
     "execution_count": 204,
     "metadata": {},
     "output_type": "execute_result"
    }
   ],
   "source": [
    "# do some floor division to find out how many months\n",
    "days.days // 30.4375"
   ]
  },
  {
   "cell_type": "code",
   "execution_count": 205,
   "metadata": {},
   "outputs": [
    {
     "data": {
      "text/plain": [
       "11"
      ]
     },
     "execution_count": 205,
     "metadata": {},
     "output_type": "execute_result"
    }
   ],
   "source": [
    "#How many years\n",
    "days.days // 365"
   ]
  },
  {
   "cell_type": "code",
   "execution_count": 207,
   "metadata": {},
   "outputs": [],
   "source": [
    "#lets be more precise\n",
    "years = int(days.days // 365.25)\n",
    "months = int((days.days % 365.25) // 30.4375)\n",
    "day = int(round((days.days % 365.25) % 30.4375, 0))"
   ]
  },
  {
   "cell_type": "code",
   "execution_count": 208,
   "metadata": {},
   "outputs": [
    {
     "data": {
      "text/plain": [
       "11"
      ]
     },
     "execution_count": 208,
     "metadata": {},
     "output_type": "execute_result"
    }
   ],
   "source": [
    "years\n"
   ]
  },
  {
   "cell_type": "code",
   "execution_count": 209,
   "metadata": {},
   "outputs": [
    {
     "data": {
      "text/plain": [
       "7"
      ]
     },
     "execution_count": 209,
     "metadata": {},
     "output_type": "execute_result"
    }
   ],
   "source": [
    "months"
   ]
  },
  {
   "cell_type": "code",
   "execution_count": 210,
   "metadata": {},
   "outputs": [
    {
     "data": {
      "text/plain": [
       "29"
      ]
     },
     "execution_count": 210,
     "metadata": {},
     "output_type": "execute_result"
    }
   ],
   "source": [
    "day"
   ]
  },
  {
   "cell_type": "code",
   "execution_count": 213,
   "metadata": {},
   "outputs": [],
   "source": [
    "def time_passed(date):\n",
    "    today = dt.date.today()\n",
    "    days = today - date\n",
    "    years = int(days.days // 365.25)\n",
    "    months = int((days.days % 365.25)// 30.4375)\n",
    "    day = int(round((days.days % 365.25) % 30.4375, 0))\n",
    "    return (\"{} years {} months and {} days\".format(years, months, day), (years,months,day, days))"
   ]
  },
  {
   "cell_type": "code",
   "execution_count": 216,
   "metadata": {},
   "outputs": [],
   "source": [
    "my_time = time_passed(dt.date(1968,7,22))\n"
   ]
  },
  {
   "cell_type": "code",
   "execution_count": 217,
   "metadata": {},
   "outputs": [
    {
     "data": {
      "text/plain": [
       "'51 years 10 months and 12 days'"
      ]
     },
     "execution_count": 217,
     "metadata": {},
     "output_type": "execute_result"
    }
   ],
   "source": [
    "my_time[0]"
   ]
  },
  {
   "cell_type": "code",
   "execution_count": 219,
   "metadata": {},
   "outputs": [
    {
     "ename": "IndexError",
     "evalue": "tuple index out of range",
     "output_type": "error",
     "traceback": [
      "\u001b[0;31m---------------------------------------------------------------------------\u001b[0m",
      "\u001b[0;31mIndexError\u001b[0m                                Traceback (most recent call last)",
      "\u001b[0;32m<ipython-input-219-56b0b7d3507e>\u001b[0m in \u001b[0;36m<module>\u001b[0;34m\u001b[0m\n\u001b[0;32m----> 1\u001b[0;31m \u001b[0mmy_time\u001b[0m\u001b[0;34m[\u001b[0m\u001b[0;36m2\u001b[0m\u001b[0;34m]\u001b[0m\u001b[0;34m\u001b[0m\u001b[0;34m\u001b[0m\u001b[0m\n\u001b[0m",
      "\u001b[0;31mIndexError\u001b[0m: tuple index out of range"
     ]
    }
   ],
   "source": []
  },
  {
   "cell_type": "code",
   "execution_count": 224,
   "metadata": {},
   "outputs": [
    {
     "ename": "SyntaxError",
     "evalue": "invalid syntax (<ipython-input-224-07127a16b55e>, line 5)",
     "output_type": "error",
     "traceback": [
      "\u001b[0;36m  File \u001b[0;32m\"<ipython-input-224-07127a16b55e>\"\u001b[0;36m, line \u001b[0;32m5\u001b[0m\n\u001b[0;31m    [for i in x: x= x-1]\u001b[0m\n\u001b[0m       ^\u001b[0m\n\u001b[0;31mSyntaxError\u001b[0m\u001b[0;31m:\u001b[0m invalid syntax\n"
     ]
    }
   ],
   "source": [
    "x = []\n",
    "for i in range(9):\n",
    "    x.append(i)\n",
    "print(x)"
   ]
  },
  {
   "cell_type": "code",
   "execution_count": 221,
   "metadata": {},
   "outputs": [
    {
     "data": {
      "text/plain": [
       "[0, 1, 2, 3, 4, 5, 6, 7, 8]"
      ]
     },
     "execution_count": 221,
     "metadata": {},
     "output_type": "execute_result"
    }
   ],
   "source": [
    "x"
   ]
  },
  {
   "cell_type": "markdown",
   "metadata": {},
   "source": [
    "### Finding a Holiday Date"
   ]
  },
  {
   "cell_type": "code",
   "execution_count": 4,
   "metadata": {},
   "outputs": [],
   "source": [
    "import pandas as pd "
   ]
  },
  {
   "cell_type": "code",
   "execution_count": 7,
   "metadata": {},
   "outputs": [],
   "source": [
    "may = ['2020-05-' + str(x) for x in range(1,32)]"
   ]
  },
  {
   "cell_type": "code",
   "execution_count": 8,
   "metadata": {},
   "outputs": [],
   "source": [
    "may = pd.DataFrame(range(1,32), index = pd.DatetimeIndex(may), columns = ['Day'])"
   ]
  },
  {
   "cell_type": "code",
   "execution_count": 9,
   "metadata": {},
   "outputs": [
    {
     "data": {
      "text/html": [
       "<div>\n",
       "<style scoped>\n",
       "    .dataframe tbody tr th:only-of-type {\n",
       "        vertical-align: middle;\n",
       "    }\n",
       "\n",
       "    .dataframe tbody tr th {\n",
       "        vertical-align: top;\n",
       "    }\n",
       "\n",
       "    .dataframe thead th {\n",
       "        text-align: right;\n",
       "    }\n",
       "</style>\n",
       "<table border=\"1\" class=\"dataframe\">\n",
       "  <thead>\n",
       "    <tr style=\"text-align: right;\">\n",
       "      <th></th>\n",
       "      <th>Day</th>\n",
       "    </tr>\n",
       "  </thead>\n",
       "  <tbody>\n",
       "    <tr>\n",
       "      <th>2020-05-01</th>\n",
       "      <td>1</td>\n",
       "    </tr>\n",
       "    <tr>\n",
       "      <th>2020-05-02</th>\n",
       "      <td>2</td>\n",
       "    </tr>\n",
       "    <tr>\n",
       "      <th>2020-05-03</th>\n",
       "      <td>3</td>\n",
       "    </tr>\n",
       "    <tr>\n",
       "      <th>2020-05-04</th>\n",
       "      <td>4</td>\n",
       "    </tr>\n",
       "    <tr>\n",
       "      <th>2020-05-05</th>\n",
       "      <td>5</td>\n",
       "    </tr>\n",
       "  </tbody>\n",
       "</table>\n",
       "</div>"
      ],
      "text/plain": [
       "            Day\n",
       "2020-05-01    1\n",
       "2020-05-02    2\n",
       "2020-05-03    3\n",
       "2020-05-04    4\n",
       "2020-05-05    5"
      ]
     },
     "execution_count": 9,
     "metadata": {},
     "output_type": "execute_result"
    }
   ],
   "source": [
    "may.head()"
   ]
  },
  {
   "cell_type": "code",
   "execution_count": 11,
   "metadata": {},
   "outputs": [
    {
     "data": {
      "text/html": [
       "<div>\n",
       "<style scoped>\n",
       "    .dataframe tbody tr th:only-of-type {\n",
       "        vertical-align: middle;\n",
       "    }\n",
       "\n",
       "    .dataframe tbody tr th {\n",
       "        vertical-align: top;\n",
       "    }\n",
       "\n",
       "    .dataframe thead th {\n",
       "        text-align: right;\n",
       "    }\n",
       "</style>\n",
       "<table border=\"1\" class=\"dataframe\">\n",
       "  <thead>\n",
       "    <tr style=\"text-align: right;\">\n",
       "      <th></th>\n",
       "      <th>Day</th>\n",
       "    </tr>\n",
       "  </thead>\n",
       "  <tbody>\n",
       "    <tr>\n",
       "      <th>2020-05-10</th>\n",
       "      <td>10</td>\n",
       "    </tr>\n",
       "  </tbody>\n",
       "</table>\n",
       "</div>"
      ],
      "text/plain": [
       "            Day\n",
       "2020-05-10   10"
      ]
     },
     "execution_count": 11,
     "metadata": {},
     "output_type": "execute_result"
    }
   ],
   "source": [
    "#When is Mothers Day? we know that it is the second Sunday in May\n",
    "may[(may.index.day > 7) & (may.index.day <15) & (may.index.weekday == 6)]"
   ]
  },
  {
   "cell_type": "code",
   "execution_count": null,
   "metadata": {},
   "outputs": [],
   "source": []
  }
 ],
 "metadata": {
  "hide_code_all_hidden": false,
  "kernelspec": {
   "display_name": "Python 3",
   "language": "python",
   "name": "python3"
  },
  "language_info": {
   "codemirror_mode": {
    "name": "ipython",
    "version": 3
   },
   "file_extension": ".py",
   "mimetype": "text/x-python",
   "name": "python",
   "nbconvert_exporter": "python",
   "pygments_lexer": "ipython3",
   "version": "3.7.7"
  },
  "latex_envs": {
   "LaTeX_envs_menu_present": true,
   "autoclose": false,
   "autocomplete": true,
   "bibliofile": "biblio.bib",
   "cite_by": "apalike",
   "current_citInitial": 1,
   "eqLabelWithNumbers": true,
   "eqNumInitial": 1,
   "hotkeys": {
    "equation": "Ctrl-E",
    "itemize": "Ctrl-I"
   },
   "labels_anchors": false,
   "latex_user_defs": false,
   "report_style_numbering": false,
   "user_envs_cfg": false
  },
  "varInspector": {
   "cols": {
    "lenName": 16,
    "lenType": 16,
    "lenVar": 40
   },
   "kernels_config": {
    "python": {
     "delete_cmd_postfix": "",
     "delete_cmd_prefix": "del ",
     "library": "var_list.py",
     "varRefreshCmd": "print(var_dic_list())"
    },
    "r": {
     "delete_cmd_postfix": ") ",
     "delete_cmd_prefix": "rm(",
     "library": "var_list.r",
     "varRefreshCmd": "cat(var_dic_list()) "
    }
   },
   "types_to_exclude": [
    "module",
    "function",
    "builtin_function_or_method",
    "instance",
    "_Feature"
   ],
   "window_display": false
  }
 },
 "nbformat": 4,
 "nbformat_minor": 4
}
